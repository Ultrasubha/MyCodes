{
 "cells": [
  {
   "cell_type": "markdown",
   "metadata": {},
   "source": [
    "# Part One: Weather Data"
   ]
  },
  {
   "cell_type": "code",
   "execution_count": 15,
   "metadata": {},
   "outputs": [
    {
     "name": "stdout",
     "output_type": "stream",
     "text": [
      "The day number with the smallest temperature spread is: 14\n"
     ]
    }
   ],
   "source": [
    "def find_day_with_smallest_spread(file_path):\n",
    "    with open(file_path, 'r') as file:\n",
    "        lines = file.readlines()\n",
    "\n",
    "    # Removing header and footer\n",
    "    data_lines = lines[2:-1]\n",
    "\n",
    "    min_spread_day = None\n",
    "    min_spread = float('inf')\n",
    "\n",
    "    for line in data_lines:\n",
    "        columns = line.split()\n",
    "\n",
    "        day = int(columns[0])\n",
    "        \n",
    "        # Handle cases where there is an asterisk (*) in the temperature columns\n",
    "        try:\n",
    "            max_temp = int(columns[1])\n",
    "            min_temp = int(columns[2].rstrip('*'))\n",
    "        except ValueError:\n",
    "            continue\n",
    "\n",
    "        spread = max_temp - min_temp\n",
    "\n",
    "        if spread < min_spread:\n",
    "            min_spread = spread\n",
    "            min_spread_day = day\n",
    "\n",
    "    return min_spread_day\n",
    "\n",
    "result = find_day_with_smallest_spread('weather.dat')\n",
    "\n",
    "print(f\"The day number with the smallest temperature spread is: {result}\")"
   ]
  },
  {
   "cell_type": "markdown",
   "metadata": {},
   "source": [
    "# Part Two: Soccer League Table"
   ]
  },
  {
   "cell_type": "code",
   "execution_count": 16,
   "metadata": {},
   "outputs": [
    {
     "name": "stdout",
     "output_type": "stream",
     "text": [
      "The team with the smallest difference between 'for' and 'against' goals is: Aston_Villa\n"
     ]
    }
   ],
   "source": [
    "def find_team_with_smallest_difference(file_path):\n",
    "    with open(file_path, 'r') as file:\n",
    "        lines = file.readlines()\n",
    "\n",
    "    # Removing header and footer\n",
    "    data_lines = lines[1:-1]\n",
    "\n",
    "    min_difference_team = None\n",
    "    min_difference = float('inf')\n",
    "\n",
    "    for line in data_lines:\n",
    "        columns = line.split()\n",
    "\n",
    "        if len(columns) >= 10:\n",
    "            team = columns[1]\n",
    "            goals_for = int(columns[6])\n",
    "            goals_against = int(columns[8])\n",
    "            difference = abs(goals_for - goals_against)\n",
    "\n",
    "            if difference < min_difference:\n",
    "                min_difference = difference\n",
    "                min_difference_team = team\n",
    "\n",
    "    return min_difference_team\n",
    "\n",
    "result = find_team_with_smallest_difference('football.dat')\n",
    "print(f\"The team with the smallest difference between 'for' and 'against' goals is: {result}\")"
   ]
  },
  {
   "cell_type": "markdown",
   "metadata": {},
   "source": [
    "# Part Three: DRY Fusion"
   ]
  },
  {
   "cell_type": "code",
   "execution_count": 17,
   "metadata": {},
   "outputs": [
    {
     "name": "stdout",
     "output_type": "stream",
     "text": [
      "The day number with the smallest temperature spread is: 14\n",
      "The team with the smallest difference between 'for' and 'against' goals is: Aston_Villa\n"
     ]
    }
   ],
   "source": [
    "def read_file_and_extract_data(file_path, header_lines, data_extraction_function):\n",
    "    with open(file_path, 'r') as file:\n",
    "        lines = file.readlines()\n",
    "\n",
    "    # Removing header and footer\n",
    "    data_lines = lines[header_lines[0]:header_lines[1]]\n",
    "\n",
    "    return data_extraction_function(data_lines)\n",
    "\n",
    "\n",
    "def find_day_with_smallest_spread(data_lines):\n",
    "    min_spread_day = None\n",
    "    min_spread = float('inf')\n",
    "\n",
    "    for line in data_lines:\n",
    "        columns = line.split()\n",
    "\n",
    "        day = int(columns[0])\n",
    "\n",
    "        try:\n",
    "            max_temp = int(columns[1])\n",
    "            min_temp = int(columns[2].rstrip('*'))\n",
    "        except ValueError:\n",
    "            continue\n",
    "\n",
    "        spread = max_temp - min_temp\n",
    "\n",
    "        if spread < min_spread:\n",
    "            min_spread = spread\n",
    "            min_spread_day = day\n",
    "\n",
    "    return min_spread_day\n",
    "\n",
    "\n",
    "def find_team_with_smallest_difference(data_lines):\n",
    "    min_difference_team = None\n",
    "    min_difference = float('inf')\n",
    "\n",
    "    for line in data_lines:\n",
    "        columns = line.split()\n",
    "\n",
    "        if len(columns) >= 10:\n",
    "            team = columns[1]\n",
    "            goals_for = int(columns[6])\n",
    "            goals_against = int(columns[8])\n",
    "            difference = abs(goals_for - goals_against)\n",
    "\n",
    "            if difference < min_difference:\n",
    "                min_difference = difference\n",
    "                min_difference_team = team\n",
    "\n",
    "    return min_difference_team\n",
    "\n",
    "\n",
    "# Using the shared function for reading file and extracting data for weather.dat and football.dat\n",
    "\n",
    "result_weather = read_file_and_extract_data('weather.dat', (2, -1), find_day_with_smallest_spread)\n",
    "print(f\"The day number with the smallest temperature spread is: {result_weather}\")\n",
    "\n",
    "result_football = read_file_and_extract_data('football.dat', (1, -1), find_team_with_smallest_difference)\n",
    "print(f\"The team with the smallest difference between 'for' and 'against' goals is: {result_football}\")"
   ]
  },
  {
   "cell_type": "markdown",
   "metadata": {},
   "source": [
    "## Kata Questions\n",
    "\n",
    "1. **To what extent did the design decisions you made when writing the original programs make it easier or harder to factor out common code?**\n",
    "   - The design decisions made in the original programs influenced the ease of factoring out common code. In Program 1, the specific data extraction logic for weather.dat was encapsulated in the `find_day_with_smallest_spread` function. In Program 2, a similar pattern was followed for football.dat with the `find_team_with_smallest_difference` function. The modular design of these functions made it easier to factor out common code later.\n",
    "\n",
    "2. **Was the way you wrote the second program influenced by writing the first?**\n",
    "   - Yes, the second program was influenced by the first one. After writing the initial program for weather.dat, the need for a similar operation on football.dat led to recognizing common patterns in file reading, data extraction, and result reporting. This recognition influenced the design of the second program to follow a similar structure and logic.\n",
    "\n",
    "3. **Is factoring out as much common code as possible always a good thing? Did the readability of the programs suffer because of this requirement? How about the maintainability?**\n",
    "   - Factoring out common code is generally a good practice as it promotes code reuse and maintains consistency. However, extreme efforts to factor out every possible commonality can lead to reduced readability, especially if it results in overly abstracted or generalized functions.\n",
    "   - In this case, factoring out the common functionality into the `read_file_and_extract_data` function increased the overall readability. The shared logic for reading files, removing headers/footers, and extracting data became clearer and more maintainable. It made the programs concise and easier to understand.\n",
    "   - It's important to strike a balance and factor out common code where it makes sense without sacrificing readability. Over-engineering for the sake of code reuse can lead to complex and less maintainable code.\n"
   ]
  },
  {
   "cell_type": "markdown",
   "metadata": {},
   "source": [
    "# Spiky version for weather.dat"
   ]
  },
  {
   "cell_type": "code",
   "execution_count": 1,
   "metadata": {},
   "outputs": [
    {
     "name": "stdout",
     "output_type": "stream",
     "text": [
      "The day number with the smallest temperature spread is: 14\n"
     ]
    }
   ],
   "source": [
    "def find_day_with_smallest_spread(file_path):\n",
    "    with open(file_path, 'r') as file:\n",
    "        lines = file.readlines()\n",
    "\n",
    "    # Removing header and footer\n",
    "    data_lines = lines[2:-1]\n",
    "\n",
    "    min_spread_day = None\n",
    "    min_spread = float('inf')\n",
    "\n",
    "    for line in data_lines:\n",
    "        columns = line.split()\n",
    "\n",
    "        day = int(columns[0])\n",
    "\n",
    "        try:\n",
    "            max_temp = int(columns[1])\n",
    "            min_temp = int(columns[2].rstrip('*'))\n",
    "        except ValueError:\n",
    "            continue\n",
    "\n",
    "        spread = max_temp - min_temp\n",
    "\n",
    "        if spread < min_spread:\n",
    "            min_spread = spread\n",
    "            min_spread_day = day\n",
    "\n",
    "    return min_spread_day\n",
    "\n",
    "result_weather = find_day_with_smallest_spread('weather.dat')\n",
    "print(f\"The day number with the smallest temperature spread is: {result_weather}\")"
   ]
  }
 ],
 "metadata": {
  "kernelspec": {
   "display_name": "Python 3",
   "language": "python",
   "name": "python3"
  },
  "language_info": {
   "codemirror_mode": {
    "name": "ipython",
    "version": 3
   },
   "file_extension": ".py",
   "mimetype": "text/x-python",
   "name": "python",
   "nbconvert_exporter": "python",
   "pygments_lexer": "ipython3",
   "version": "3.10.12"
  }
 },
 "nbformat": 4,
 "nbformat_minor": 2
}
