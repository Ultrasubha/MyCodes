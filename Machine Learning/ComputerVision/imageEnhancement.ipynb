{
 "cells": [
  {
   "cell_type": "code",
   "execution_count": 1,
   "metadata": {},
   "outputs": [],
   "source": [
    "import numpy as np\n",
    "data = np.array([100, 120, 100, 150, 160])\n",
    "mask = np.array([1,0,-1])"
   ]
  },
  {
   "cell_type": "markdown",
   "metadata": {},
   "source": [
    "<h2>Correlate<h2>"
   ]
  },
  {
   "cell_type": "code",
   "execution_count": 2,
   "metadata": {},
   "outputs": [
    {
     "name": "stdout",
     "output_type": "stream",
     "text": [
      "[-100 -120    0  -30  -60  150  160]\n",
      "[  0 -30 -60]\n",
      "[-120    0  -30  -60  150]\n"
     ]
    }
   ],
   "source": [
    "print(np.correlate(data, mask, 'full'))\n",
    "print(np.correlate(data, mask, 'valid'))\n",
    "print(np.correlate(data, mask, 'same'))"
   ]
  },
  {
   "cell_type": "markdown",
   "metadata": {},
   "source": [
    "<h2>Convolve<h2>"
   ]
  },
  {
   "cell_type": "code",
   "execution_count": 3,
   "metadata": {},
   "outputs": [
    {
     "name": "stdout",
     "output_type": "stream",
     "text": [
      "[ 100  120    0   30   60 -150 -160]\n",
      "[ 0 30 60]\n",
      "[ 120    0   30   60 -150]\n"
     ]
    }
   ],
   "source": [
    "print(np.convolve(data, mask, 'full'))\n",
    "print(np.convolve(data, mask, 'valid'))\n",
    "print(np.convolve(data, mask, 'same'))"
   ]
  },
  {
   "cell_type": "markdown",
   "metadata": {},
   "source": [
    "<h1> Program of AVerage Filter</h1>"
   ]
  },
  {
   "cell_type": "code",
   "execution_count": 4,
   "metadata": {},
   "outputs": [
    {
     "data": {
      "text/plain": [
       "(228, 221)"
      ]
     },
     "execution_count": 4,
     "metadata": {},
     "output_type": "execute_result"
    }
   ],
   "source": [
    "import cv2\n",
    "import matplotlib.pyplot as plt\n",
    "#Load Image\n",
    "image = cv2.imread('image.png', cv2.IMREAD_GRAYSCALE)\n",
    "image.shape"
   ]
  },
  {
   "cell_type": "code",
   "execution_count": 5,
   "metadata": {},
   "outputs": [
    {
     "data": {
      "text/plain": [
       "<Figure size 720x432 with 0 Axes>"
      ]
     },
     "metadata": {},
     "output_type": "display_data"
    }
   ],
   "source": [
    "#Apply avg filter\n",
    "kernel_size = 5\n",
    "filtered_image = cv2.blur(image,(kernel_size, kernel_size))\n",
    "\n",
    "#Display original image and filtered image using matplotlib\n",
    "plt.figure(figsize=(10, 6))\n",
    "cv2.imshow('Blur img', filtered_image)"
   ]
  },
  {
   "cell_type": "code",
   "execution_count": 6,
   "metadata": {},
   "outputs": [],
   "source": [
    "blurred_image = cv2.medianBlur(image,kernel_size)\n",
    "cv2.imshow('Median Blur (edge enhanced)', blurred_image)"
   ]
  },
  {
   "cell_type": "code",
   "execution_count": 7,
   "metadata": {},
   "outputs": [],
   "source": [
    "kernel = np.ones((kernel_size,kernel_size),np.uint8)\n",
    "max_filtered_image = cv2.dilate(image, kernel)\n",
    "cv2.imshow(\"max filtered image\", max_filtered_image)"
   ]
  },
  {
   "cell_type": "code",
   "execution_count": 8,
   "metadata": {},
   "outputs": [],
   "source": [
    "#Min"
   ]
  },
  {
   "cell_type": "code",
   "execution_count": 9,
   "metadata": {},
   "outputs": [],
   "source": [
    "#Gaussian"
   ]
  },
  {
   "cell_type": "markdown",
   "metadata": {},
   "source": [
    "<h3> Bilateral Filter</h3>"
   ]
  },
  {
   "cell_type": "code",
   "execution_count": 10,
   "metadata": {},
   "outputs": [],
   "source": [
    "diameter = 9\n",
    "sigma_color = 75\n",
    "sigma_space = 75\n",
    "bilateral_filtered_image = cv2.bilateralFilter(image, diameter, sigma_color, sigma_space)\n",
    "cv2.imshow(\"bilateral_filtered_image\", bilateral_filtered_image)"
   ]
  },
  {
   "cell_type": "code",
   "execution_count": 11,
   "metadata": {},
   "outputs": [],
   "source": [
    "cv2.waitKey(0)\n",
    "cv2.destroyAllWindows()"
   ]
  }
 ],
 "metadata": {
  "kernelspec": {
   "display_name": "Python 3",
   "language": "python",
   "name": "python3"
  },
  "language_info": {
   "codemirror_mode": {
    "name": "ipython",
    "version": 3
   },
   "file_extension": ".py",
   "mimetype": "text/x-python",
   "name": "python",
   "nbconvert_exporter": "python",
   "pygments_lexer": "ipython3",
   "version": "3.10.4"
  },
  "orig_nbformat": 4
 },
 "nbformat": 4,
 "nbformat_minor": 2
}
