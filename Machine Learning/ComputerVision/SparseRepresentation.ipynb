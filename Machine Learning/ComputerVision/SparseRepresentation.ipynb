{
 "cells": [
  {
   "cell_type": "markdown",
   "metadata": {},
   "source": [
    "<h1> Sparse Representation </h1>"
   ]
  },
  {
   "cell_type": "code",
   "execution_count": 4,
   "metadata": {},
   "outputs": [
    {
     "name": "stdout",
     "output_type": "stream",
     "text": [
      "Original sparse signal:  [-0.52516981  1.01051528 -0.92408284  0.81644508  0.95036968 -0.58087813\n",
      " -1.523876   -0.57138017  0.27904129 -2.61254901  0.          0.\n",
      "  0.          0.          0.          0.          0.          0.\n",
      "  0.          0.          0.          0.          0.          0.\n",
      "  0.          0.          0.          0.          0.          0.\n",
      "  0.          0.          0.          0.          0.          0.\n",
      "  0.          0.          0.          0.          0.          0.\n",
      "  0.          0.          0.          0.          0.          0.\n",
      "  0.          0.          0.          0.          0.          0.\n",
      "  0.          0.          0.          0.          0.          0.\n",
      "  0.          0.          0.          0.          0.          0.\n",
      "  0.          0.          0.          0.          0.          0.\n",
      "  0.          0.          0.          0.          0.          0.\n",
      "  0.          0.          0.          0.          0.          0.\n",
      "  0.          0.          0.          0.          0.          0.\n",
      "  0.          0.          0.          0.          0.          0.\n",
      "  0.          0.          0.          0.        ]\n",
      "Recovered sparse signal:  [-0.56601816  0.93823086 -0.99246096  0.60443927  0.88937844 -0.51914983\n",
      " -1.26597094 -0.53000061  0.         -2.66213632  0.          0.\n",
      "  0.          0.          0.          0.          0.          0.\n",
      "  0.          0.          0.          0.          0.          0.\n",
      "  0.          0.          0.          0.          0.          0.\n",
      "  0.          0.          0.          0.          0.          0.\n",
      "  0.          0.          0.          0.          0.          0.\n",
      "  0.          0.          0.          0.          0.          0.\n",
      "  0.          0.          0.          0.          0.          0.\n",
      "  0.33918588  0.          0.          0.          0.          0.\n",
      "  0.          0.          0.          0.          0.          0.\n",
      "  0.          0.          0.          0.          0.          0.\n",
      "  0.          0.          0.          0.          0.          0.\n",
      "  0.          0.          0.          0.          0.          0.\n",
      "  0.          0.          0.          0.          0.          0.\n",
      "  0.          0.          0.          0.          0.          0.\n",
      "  0.          0.          0.          0.        ]\n"
     ]
    }
   ],
   "source": [
    "from sklearn.linear_model import OrthogonalMatchingPursuit\n",
    "import numpy as np\n",
    "\n",
    "#Genralize a sparse signal\n",
    "np.random.seed(42)\n",
    "signal_length = 100\n",
    "sparse_indices = np.random.choice(10,10,replace=False) #signal_length = 10, size = 10, replace = False\n",
    "sparse_signal = np.zeros(signal_length)\n",
    "sparse_signal[sparse_indices] = np.random.randn(10)\n",
    "\n",
    "#Add noise to signal\n",
    "noisy_signal = sparse_signal + 0.1 * np.random.randn(signal_length)\n",
    "\n",
    "#Apply OMP to recover the sparse representation\n",
    "omp = OrthogonalMatchingPursuit(n_nonzero_coefs = 10)\n",
    "omp.fit(np.eye(signal_length), noisy_signal)\n",
    "\n",
    "#Get the sparse Coefficients\n",
    "sparse_coefficients = omp.coef_\n",
    "\n",
    "#Print the orignal sparse signal and the recovered sparse signal\n",
    "print(\"Original sparse signal: \", sparse_signal)\n",
    "print(\"Recovered sparse signal: \", sparse_coefficients)"
   ]
  },
  {
   "cell_type": "markdown",
   "metadata": {},
   "source": [
    "<h1> Belief Propagation </h1>"
   ]
  },
  {
   "cell_type": "code",
   "execution_count": 5,
   "metadata": {},
   "outputs": [
    {
     "ename": "AttributeError",
     "evalue": "'function' object has no attribute 'copy'",
     "output_type": "error",
     "traceback": [
      "\u001b[1;31m---------------------------------------------------------------------------\u001b[0m",
      "\u001b[1;31mAttributeError\u001b[0m                            Traceback (most recent call last)",
      "\u001b[1;32md:\\_WorkSpace\\MyCodes\\Machine Learning\\ComputerVision\\SparseRepresentation.ipynb Cell 4\u001b[0m line \u001b[0;36m<cell line: 33>\u001b[1;34m()\u001b[0m\n\u001b[0;32m     <a href='vscode-notebook-cell:/d%3A/_WorkSpace/MyCodes/Machine%20Learning/ComputerVision/SparseRepresentation.ipynb#W4sZmlsZQ%3D%3D?line=39'>40</a>\u001b[0m noisy_image \u001b[39m=\u001b[39m add_noise(true_image, noise_level)\n\u001b[0;32m     <a href='vscode-notebook-cell:/d%3A/_WorkSpace/MyCodes/Machine%20Learning/ComputerVision/SparseRepresentation.ipynb#W4sZmlsZQ%3D%3D?line=41'>42</a>\u001b[0m \u001b[39m#Perform belief propagation for image denoising\u001b[39;00m\n\u001b[1;32m---> <a href='vscode-notebook-cell:/d%3A/_WorkSpace/MyCodes/Machine%20Learning/ComputerVision/SparseRepresentation.ipynb#W4sZmlsZQ%3D%3D?line=42'>43</a>\u001b[0m denoised_beliefs \u001b[39m=\u001b[39m belief_propagation(noisy_image)\n\u001b[0;32m     <a href='vscode-notebook-cell:/d%3A/_WorkSpace/MyCodes/Machine%20Learning/ComputerVision/SparseRepresentation.ipynb#W4sZmlsZQ%3D%3D?line=44'>45</a>\u001b[0m \u001b[39m#Threshold the beliefs to obtain the denoised image\u001b[39;00m\n\u001b[0;32m     <a href='vscode-notebook-cell:/d%3A/_WorkSpace/MyCodes/Machine%20Learning/ComputerVision/SparseRepresentation.ipynb#W4sZmlsZQ%3D%3D?line=45'>46</a>\u001b[0m denoised_image \u001b[39m=\u001b[39m (denoised_beliefs \u001b[39m>\u001b[39m \u001b[39m0.5\u001b[39m)\u001b[39m.\u001b[39mastype(\u001b[39mint\u001b[39m)\n",
      "\u001b[1;32md:\\_WorkSpace\\MyCodes\\Machine Learning\\ComputerVision\\SparseRepresentation.ipynb Cell 4\u001b[0m line \u001b[0;36mbelief_propagation\u001b[1;34m(noisy_image, max_iterations, beta)\u001b[0m\n\u001b[0;32m     <a href='vscode-notebook-cell:/d%3A/_WorkSpace/MyCodes/Machine%20Learning/ComputerVision/SparseRepresentation.ipynb#W4sZmlsZQ%3D%3D?line=16'>17</a>\u001b[0m beliefs \u001b[39m=\u001b[39m initialize_beliefs(image_shape)\n\u001b[0;32m     <a href='vscode-notebook-cell:/d%3A/_WorkSpace/MyCodes/Machine%20Learning/ComputerVision/SparseRepresentation.ipynb#W4sZmlsZQ%3D%3D?line=18'>19</a>\u001b[0m \u001b[39mfor\u001b[39;00m iteration \u001b[39min\u001b[39;00m \u001b[39mrange\u001b[39m(max_iterations):\n\u001b[0;32m     <a href='vscode-notebook-cell:/d%3A/_WorkSpace/MyCodes/Machine%20Learning/ComputerVision/SparseRepresentation.ipynb#W4sZmlsZQ%3D%3D?line=19'>20</a>\u001b[0m     \u001b[39m#update messages (in this simple example just copy the beliefs)\u001b[39;00m\n\u001b[1;32m---> <a href='vscode-notebook-cell:/d%3A/_WorkSpace/MyCodes/Machine%20Learning/ComputerVision/SparseRepresentation.ipynb#W4sZmlsZQ%3D%3D?line=20'>21</a>\u001b[0m     messages \u001b[39m=\u001b[39m beliefs\u001b[39m.\u001b[39;49mcopy()\n\u001b[0;32m     <a href='vscode-notebook-cell:/d%3A/_WorkSpace/MyCodes/Machine%20Learning/ComputerVision/SparseRepresentation.ipynb#W4sZmlsZQ%3D%3D?line=22'>23</a>\u001b[0m     \u001b[39m#Update images by combining messages from neighbors\u001b[39;00m\n\u001b[0;32m     <a href='vscode-notebook-cell:/d%3A/_WorkSpace/MyCodes/Machine%20Learning/ComputerVision/SparseRepresentation.ipynb#W4sZmlsZQ%3D%3D?line=23'>24</a>\u001b[0m     \u001b[39mfor\u001b[39;00m i \u001b[39min\u001b[39;00m \u001b[39mrange\u001b[39m(image_shape[\u001b[39m0\u001b[39m]):\n",
      "\u001b[1;31mAttributeError\u001b[0m: 'function' object has no attribute 'copy'"
     ]
    }
   ],
   "source": [
    "import numpy as np\n",
    "\n",
    "def add_noise(image, noise_level):\n",
    "    #Adds random noise to image\n",
    "    noise = np.random.normal(0,noise_level,image.shape)\n",
    "    noisy_image = image + noise\n",
    "    return np.clip(noisy_image,0,1)\n",
    "\n",
    "def initialize_beliefs(image_shape):\n",
    "    #Initialize belief for a binary image denoising problem\n",
    "    beliefs = np.ones(image_shape) * 0.5 #initially set all beliefs to 0.5\n",
    "    return initialize_beliefs\n",
    "\n",
    "def belief_propagation(noisy_image,max_iterations=10,beta=1.0):\n",
    "    #Perform belief propagation for binary image denoising problem\n",
    "    image_shape = noisy_image.shape\n",
    "    beliefs = initialize_beliefs(image_shape)\n",
    "    \n",
    "    for iteration in range(max_iterations):\n",
    "        #update messages (in this simple example just copy the beliefs)\n",
    "        messages = beliefs.copy()\n",
    "        \n",
    "        #Update images by combining messages from neighbors\n",
    "        for i in range(image_shape[0]):\n",
    "            for j in range(image_shape[1]):\n",
    "                #Simple denoising update rule\n",
    "                beliefs[i,j] =np.exp(beta * noisy_image[i,j]) * messages[i,j]\n",
    "                \n",
    "                #Normalize beliefs to sum to 1\n",
    "                beliefs[i,j] /= beliefs[i,j].sum()\n",
    "        return beliefs\n",
    "    \n",
    "if __name__ == \"__main__\":\n",
    "    #Generate a binary image\n",
    "    image_size = 10\n",
    "    true_image = np.random.randint(2, size=(image_size, image_size))\n",
    "    \n",
    "    #Add noise to image\n",
    "    noise_level =0.1\n",
    "    noisy_image = add_noise(true_image, noise_level)\n",
    "    \n",
    "    #Perform belief propagation for image denoising\n",
    "    denoised_beliefs = belief_propagation(noisy_image)\n",
    "    \n",
    "    #Threshold the beliefs to obtain the denoised image\n",
    "    denoised_image = (denoised_beliefs > 0.5).astype(int)\n",
    "    \n",
    "    print(\"True image: \", true_image)\n",
    "    print(\"Noisy image: \", noisy_image)\n",
    "    print(\"Denoised image: \", denoised_image)\n",
    "    "
   ]
  },
  {
   "cell_type": "code",
   "execution_count": null,
   "metadata": {},
   "outputs": [],
   "source": []
  }
 ],
 "metadata": {
  "kernelspec": {
   "display_name": "Python 3",
   "language": "python",
   "name": "python3"
  },
  "language_info": {
   "codemirror_mode": {
    "name": "ipython",
    "version": 3
   },
   "file_extension": ".py",
   "mimetype": "text/x-python",
   "name": "python",
   "nbconvert_exporter": "python",
   "pygments_lexer": "ipython3",
   "version": "3.10.4"
  }
 },
 "nbformat": 4,
 "nbformat_minor": 2
}
