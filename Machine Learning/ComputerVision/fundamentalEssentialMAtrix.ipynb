{
 "cells": [
  {
   "cell_type": "code",
   "execution_count": 1,
   "metadata": {},
   "outputs": [],
   "source": [
    "import cv2\n",
    "import numpy as np\n",
    "#img1 = cv2.imread(\"image1.jpg\",0)\n",
    "#img2 = cv2.imread(\"image2.jpg\",0)\n"
   ]
  },
  {
   "cell_type": "markdown",
   "metadata": {},
   "source": [
    "<h3> Define corresponding points</h3>"
   ]
  },
  {
   "cell_type": "code",
   "execution_count": 2,
   "metadata": {},
   "outputs": [],
   "source": [
    "pts1 = np.array([\n",
    "    [100,200],\n",
    "    [150,180],\n",
    "    [200,160],\n",
    "    [250,140],\n",
    "    [300,120],\n",
    "    [350,100],\n",
    "    [400,80],\n",
    "    [450,50]\n",
    "    ],dtype=np.float32)\n",
    "\n",
    "pts2 = np.array([\n",
    "    [300,50],\n",
    "    [350,70],\n",
    "    [400,90],\n",
    "    [450,110],\n",
    "    [500,130],\n",
    "    [550,150],\n",
    "    [600,170],\n",
    "    [650,190]\n",
    "    ],dtype=np.float32)"
   ]
  },
  {
   "cell_type": "code",
   "execution_count": 3,
   "metadata": {},
   "outputs": [
    {
     "name": "stdout",
     "output_type": "stream",
     "text": [
      "Estimated Essential matrix\n",
      "[[-0.29709108 -0.25868543  0.24586862]\n",
      " [ 0.27321594 -0.52706569 -0.37758054]\n",
      " [ 0.30314474  0.38166742 -0.22757054]]\n"
     ]
    }
   ],
   "source": [
    "pts1_normalized = cv2.normalize(pts1,None,0,1,cv2.NORM_MINMAX)\n",
    "pts2_normalized = cv2.normalize(pts2,None,0,1,cv2.NORM_MINMAX)\n",
    "\n",
    "F,_ = cv2.findEssentialMat(pts1_normalized, pts2_normalized)\n",
    "print(\"Estimated Essential matrix\")\n",
    "print(F)"
   ]
  },
  {
   "cell_type": "code",
   "execution_count": 4,
   "metadata": {},
   "outputs": [
    {
     "name": "stdout",
     "output_type": "stream",
     "text": [
      "Estimated Fundamental matrix\n",
      "None\n"
     ]
    }
   ],
   "source": [
    "F,_ = cv2.findFundamentalMat(pts1_normalized, pts2_normalized)\n",
    "print(\"Estimated Fundamental matrix\")\n",
    "print(F)"
   ]
  }
 ],
 "metadata": {
  "kernelspec": {
   "display_name": "Python 3",
   "language": "python",
   "name": "python3"
  },
  "language_info": {
   "codemirror_mode": {
    "name": "ipython",
    "version": 3
   },
   "file_extension": ".py",
   "mimetype": "text/x-python",
   "name": "python",
   "nbconvert_exporter": "python",
   "pygments_lexer": "ipython3",
   "version": "3.10.4"
  },
  "orig_nbformat": 4
 },
 "nbformat": 4,
 "nbformat_minor": 2
}
