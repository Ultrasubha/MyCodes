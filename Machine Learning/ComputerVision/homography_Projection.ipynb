{
 "cells": [
  {
   "cell_type": "code",
   "execution_count": 21,
   "metadata": {},
   "outputs": [],
   "source": [
    "import numpy as np\n",
    "import cv2"
   ]
  },
  {
   "cell_type": "markdown",
   "metadata": {},
   "source": [
    "<h3> Transforming </h3>"
   ]
  },
  {
   "cell_type": "code",
   "execution_count": 22,
   "metadata": {},
   "outputs": [],
   "source": [
    "img = cv2.imread(\"D:\\Pictures\\scene.jpg\")\n",
    "\n",
    "# Loading Image\n",
    "dx = 100 # x-axis translation\n",
    "dy = 50 # y-axis translation\n",
    "\n",
    "# Defining Transformation Matrix Projection\n",
    "matrix = np.float32([[1,0,dx], [0,1,dy],[0,0,1]])\n",
    "trans_img = cv2.warpPerspective(img, matrix, (img.shape[1], img.shape[0]))\n"
   ]
  },
  {
   "cell_type": "code",
   "execution_count": 23,
   "metadata": {},
   "outputs": [],
   "source": [
    "cv2.imshow(\"original\", img)\n",
    "cv2.imshow(\"transformed\", trans_img)"
   ]
  },
  {
   "cell_type": "markdown",
   "metadata": {},
   "source": [
    "<h3> Rotation </h3>"
   ]
  },
  {
   "cell_type": "code",
   "execution_count": 24,
   "metadata": {},
   "outputs": [
    {
     "ename": "NameError",
     "evalue": "name 'image' is not defined",
     "output_type": "error",
     "traceback": [
      "\u001b[1;31m---------------------------------------------------------------------------\u001b[0m",
      "\u001b[1;31mNameError\u001b[0m                                 Traceback (most recent call last)",
      "\u001b[1;32md:\\_WorkSpace\\MyCodes\\Machine Learning\\ComputerVision\\homography_Projection.ipynb Cell 6\u001b[0m in \u001b[0;36m<cell line: 4>\u001b[1;34m()\u001b[0m\n\u001b[0;32m      <a href='vscode-notebook-cell:/d%3A/_WorkSpace/MyCodes/Machine%20Learning/ComputerVision/homography_Projection.ipynb#X20sZmlsZQ%3D%3D?line=0'>1</a>\u001b[0m angle \u001b[39m=\u001b[39m \u001b[39m30\u001b[39m\n\u001b[0;32m      <a href='vscode-notebook-cell:/d%3A/_WorkSpace/MyCodes/Machine%20Learning/ComputerVision/homography_Projection.ipynb#X20sZmlsZQ%3D%3D?line=2'>3</a>\u001b[0m \u001b[39m#Calculating the Rotation center\u001b[39;00m\n\u001b[1;32m----> <a href='vscode-notebook-cell:/d%3A/_WorkSpace/MyCodes/Machine%20Learning/ComputerVision/homography_Projection.ipynb#X20sZmlsZQ%3D%3D?line=3'>4</a>\u001b[0m center \u001b[39m=\u001b[39m (image\u001b[39m.\u001b[39mshape[\u001b[39m1\u001b[39m] \u001b[39m/\u001b[39m\u001b[39m/\u001b[39m\u001b[39m2\u001b[39m , image\u001b[39m.\u001b[39mshape[\u001b[39m0\u001b[39m] \u001b[39m/\u001b[39m\u001b[39m/\u001b[39m \u001b[39m2\u001b[39m)\n\u001b[0;32m      <a href='vscode-notebook-cell:/d%3A/_WorkSpace/MyCodes/Machine%20Learning/ComputerVision/homography_Projection.ipynb#X20sZmlsZQ%3D%3D?line=5'>6</a>\u001b[0m matrix \u001b[39m=\u001b[39m cv2\u001b[39m.\u001b[39mgetRotationMatrix2D(center, angle, \u001b[39m1\u001b[39m,\u001b[39m0\u001b[39m)\n\u001b[0;32m      <a href='vscode-notebook-cell:/d%3A/_WorkSpace/MyCodes/Machine%20Learning/ComputerVision/homography_Projection.ipynb#X20sZmlsZQ%3D%3D?line=6'>7</a>\u001b[0m rotated_image \u001b[39m=\u001b[39m cv2\u001b[39m.\u001b[39mwarpAffine(img, matrix, (img\u001b[39m.\u001b[39mshape[\u001b[39m1\u001b[39m], img\u001b[39m.\u001b[39mshape[\u001b[39m0\u001b[39m]))\n",
      "\u001b[1;31mNameError\u001b[0m: name 'image' is not defined"
     ]
    },
    {
     "ename": "",
     "evalue": "",
     "output_type": "error",
     "traceback": [
      "\u001b[1;31mThe Kernel crashed while executing code in the the current cell or a previous cell. Please review the code in the cell(s) to identify a possible cause of the failure. Click <a href='https://aka.ms/vscodeJupyterKernelCrash'>here</a> for more info. View Jupyter <a href='command:jupyter.viewOutput'>log</a> for further details."
     ]
    }
   ],
   "source": [
    "angle = 30\n",
    "\n",
    "#Calculating the Rotation center\n",
    "center = (image.shape[1] //2 , image.shape[0] // 2)\n",
    "\n",
    "matrix = cv2.getRotationMatrix2D(center, angle, 1,0)\n",
    "rotated_image = cv2.warpAffine(img, matrix, (img.shape[1], img.shape[0]))\n",
    "\n",
    "cv.imshow(\"rotated_image\", rotated_image)"
   ]
  },
  {
   "cell_type": "markdown",
   "metadata": {},
   "source": [
    "<h3> Scaling </h3>"
   ]
  },
  {
   "cell_type": "code",
   "execution_count": null,
   "metadata": {},
   "outputs": [],
   "source": [
    "scale_x = 2.5\n",
    "scale_y = 0.5\n",
    "\n",
    "matrix = np.float32([[scale_x, 0, 0], [0, scale_y, 0]])\n",
    "scaled_image = cv2.warpAffine(img, matrix, (int(img.shape[1] * scale_x), int(img.shape[0] * scale_y)))\n",
    "cv2.imshow(\"scaled\", scaled_image)              "
   ]
  },
  {
   "cell_type": "markdown",
   "metadata": {},
   "source": [
    "<h3> Flipping </h3>"
   ]
  },
  {
   "cell_type": "code",
   "execution_count": null,
   "metadata": {},
   "outputs": [],
   "source": [
    "flipped_horizontal = cv2.flip(img, 1)\n",
    "flipped_vertical = cv2.flip(img,0)\n",
    "flipped_both = cv2.flip(img, -1)\n",
    "\n",
    "cv2.imshow(\"flipped_horizontal\", flipped_horizontal)\n",
    "cv2.imshow(\"flipped_vertical\", flipped_vertical)\n",
    "cv2.imshow(\"flipped_both\", flipped_both)"
   ]
  },
  {
   "cell_type": "markdown",
   "metadata": {},
   "source": [
    "<h3> Shearing </h3>"
   ]
  },
  {
   "cell_type": "code",
   "execution_count": null,
   "metadata": {},
   "outputs": [],
   "source": [
    "shear_factor_x = 0.5\n",
    "shear_factor_y = -0.3\n",
    "\n",
    "matrix = np.float32([[1, shear_factor_x, 0],[shear_factor_y, 1, 0]])\n",
    "sheared_image = cv2.warpAffine(img, matrix, (img.shape[1] , img.shape[0]))\n",
    "cv2.imshow(\"sheared_image\", sheared_image)"
   ]
  },
  {
   "cell_type": "code",
   "execution_count": null,
   "metadata": {},
   "outputs": [],
   "source": [
    "k=cv2.waitKey(0)\n",
    "cv2.destroyAllWindows()"
   ]
  }
 ],
 "metadata": {
  "kernelspec": {
   "display_name": "Python 3",
   "language": "python",
   "name": "python3"
  },
  "language_info": {
   "codemirror_mode": {
    "name": "ipython",
    "version": 3
   },
   "file_extension": ".py",
   "mimetype": "text/x-python",
   "name": "python",
   "nbconvert_exporter": "python",
   "pygments_lexer": "ipython3",
   "version": "3.10.4"
  },
  "orig_nbformat": 4
 },
 "nbformat": 4,
 "nbformat_minor": 2
}
