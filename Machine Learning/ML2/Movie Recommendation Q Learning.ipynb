{
 "cells": [
  {
   "cell_type": "code",
   "execution_count": 1,
   "metadata": {},
   "outputs": [],
   "source": [
    "import numpy as np"
   ]
  },
  {
   "cell_type": "code",
   "execution_count": 2,
   "metadata": {},
   "outputs": [],
   "source": [
    "class QLearningMovieRecommender:\n",
    "    def __init__(self, num_users, num_movies, learning_rate=0.1, discount_factor=0.9, exploration_prob=0.2):\n",
    "        self.num_users = num_users\n",
    "        self.num_movies = num_movies\n",
    "        self.learning_rate = learning_rate\n",
    "        self.discount_factor = discount_factor\n",
    "        self.exploraion_prob = exploration_prob\n",
    "        self.q_table = np.zeros((num_users, num_movies))\n",
    "\n",
    "    def choose_action(self, user):\n",
    "        if np.random.rand() < self.exploraion_prob:\n",
    "            #   Explore: choose a random movie\n",
    "            return np.random.randint(self.num_movies)\n",
    "        else:\n",
    "            #   Exploit: choose the  movie with the highest Q-value\n",
    "            return np.argmax(self.q_table[user, :])\n",
    "        \n",
    "    def update_q_table(self, user, action, reward):\n",
    "        #   Q-learning update rule\n",
    "        self.q_table[user, action] = (1 - self.learning_rate) * self.q_table[user, action] + self.learning_rate * (reward + self.discount_factor * np.max(self.q_table[user, :]))\n",
    "\n",
    "    def recommend(self, user):\n",
    "        #   Recommend the movie with the highest Q-value for the user\n",
    "        return np.argmax(self.q_table[user, :])"
   ]
  },
  {
   "cell_type": "code",
   "execution_count": 37,
   "metadata": {},
   "outputs": [
    {
     "name": "stdout",
     "output_type": "stream",
     "text": [
      "User 0 - Recommended Movie: 1\n",
      "User 1 - Recommended Movie: 0\n",
      "User 2 - Recommended Movie: 4\n"
     ]
    }
   ],
   "source": [
    "#   Example usage\n",
    "num_users = 3\n",
    "num_movies = 5\n",
    "movie_recommender = QLearningMovieRecommender(num_users, num_movies)\n",
    "\n",
    "#   Simulate interactions and learning\n",
    "for _ in range(1000):\n",
    "    user = np.random.randint(num_users)\n",
    "    action = movie_recommender.choose_action(user)\n",
    "    reward = np.random.rand()   # In a real-world scenario, the reward would\n",
    "    movie_recommender.update_q_table(user, action, reward)\n",
    "\n",
    "#Make recommendations for each user\n",
    "for user in range(num_users):\n",
    "    recommended_movie = movie_recommender.recommend(user)\n",
    "    print(f\"User {user} - Recommended Movie: {recommended_movie}\")"
   ]
  }
 ],
 "metadata": {
  "kernelspec": {
   "display_name": "base",
   "language": "python",
   "name": "python3"
  },
  "language_info": {
   "codemirror_mode": {
    "name": "ipython",
    "version": 3
   },
   "file_extension": ".py",
   "mimetype": "text/x-python",
   "name": "python",
   "nbconvert_exporter": "python",
   "pygments_lexer": "ipython3",
   "version": "3.11.3"
  }
 },
 "nbformat": 4,
 "nbformat_minor": 2
}
