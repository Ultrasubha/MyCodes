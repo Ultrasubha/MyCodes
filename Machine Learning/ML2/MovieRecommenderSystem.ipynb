{
 "cells": [
  {
   "cell_type": "markdown",
   "metadata": {},
   "source": [
    "<h1> Movie Recommender Approach 1</h1>"
   ]
  },
  {
   "cell_type": "code",
   "execution_count": 8,
   "metadata": {},
   "outputs": [
    {
     "name": "stdout",
     "output_type": "stream",
     "text": [
      "movie_id    1    2    3    4    5\n",
      "user_id                          \n",
      "1         5.0  4.0  0.0  0.0  0.0\n",
      "2         0.0  0.0  4.0  3.0  0.0\n",
      "3         0.0  0.0  0.0  0.0  5.0\n",
      "[[1. 1. 0. 0. 0.]\n",
      " [1. 1. 0. 0. 0.]\n",
      " [0. 0. 1. 1. 0.]\n",
      " [0. 0. 1. 1. 0.]\n",
      " [0. 0. 0. 0. 1.]]\n",
      "Recommended movies for user 1: ['Movie A', 'Movie B', 'Movie C', 'Movie D']\n"
     ]
    }
   ],
   "source": [
    "import pandas as pd\n",
    "from sklearn.metrics.pairwise import cosine_similarity\n",
    "\n",
    "# Sample movie data with genres and ratings\n",
    "movies_data = {\n",
    "    'movie_id': [1, 2, 3, 4, 5],\n",
    "    'title': ['Movie A', 'Movie B', 'Movie C', 'Movie D', 'Movie E'],\n",
    "    'genres': ['Action|Adventure', 'Drama|Romance', 'Action|Sci-Fi',\n",
    "               'Drama|Thriller', 'Comedy']\n",
    "}\n",
    "\n",
    "# Sample user ratings data\n",
    "ratings_data = {\n",
    "    'user_id': [1, 1, 2, 2, 3],\n",
    "    'movie_id': [1, 2, 3, 4, 5],  # Adjusted movie IDs to match the movie_data\n",
    "    'rating': [5, 4, 4, 3, 5]\n",
    "}\n",
    "\n",
    "# Convert movie and ratings data to pandas DataFrames\n",
    "movies_df = pd.DataFrame(movies_data)\n",
    "ratings_df = pd.DataFrame(ratings_data)\n",
    "\n",
    "# Create a user movie rating matrix\n",
    "user_movie_ratings = ratings_df.pivot(index='user_id', columns='movie_id',\n",
    "                                      values='rating').fillna(0)\n",
    "print(user_movie_ratings)\n",
    "# Calculate movie similarities based on genres\n",
    "genres_similarity = cosine_similarity(user_movie_ratings.values.T)\n",
    "print(genres_similarity)\n",
    "# Function to get movie recommendations based on ratings\n",
    "def get_movie_recommendations(movie_id, num_recommendations=5):\n",
    "    similar_movies = list(enumerate(genres_similarity[movie_id]))\n",
    "    sorted_similar_movies = sorted(similar_movies, key=lambda x: x[1],\n",
    "                                   reverse=True)\n",
    "    recommended_movies = []\n",
    "    for movie in sorted_similar_movies[1:num_recommendations + 1]:\n",
    "        movie_id, _ = movie\n",
    "        recommended_movies.append(movies_df.loc\n",
    "         [movies_df['movie_id'] == movie_id, 'title'].values[0])\n",
    "    return recommended_movies\n",
    "\n",
    "# Sample user's movie ratings\n",
    "user_id = 1\n",
    "\n",
    "# Get unrated movies for the user\n",
    "unrated_movies = [movie_id for movie_id in movies_df['movie_id'].values if movie_id not in user_movie_ratings.columns]\n",
    "\n",
    "# Recommend movies to the user based on the highest-rated movie\n",
    "highest_rated_movie_id = ratings_df[ratings_df['user_id'] == user_id]['movie_id'].iloc[0]\n",
    "recommended_movies = get_movie_recommendations(highest_rated_movie_id)\n",
    "\n",
    "# Display recommended movies\n",
    "print(f\"Recommended movies for user {user_id}: {recommended_movies}\")\n"
   ]
  },
  {
   "cell_type": "markdown",
   "metadata": {},
   "source": [
    "<h1> Movie Recommender Approach 2</h1>"
   ]
  },
  {
   "cell_type": "code",
   "execution_count": 9,
   "metadata": {},
   "outputs": [
    {
     "ename": "NameError",
     "evalue": "name 'linear_kernal' is not defined",
     "output_type": "error",
     "traceback": [
      "\u001b[1;31m---------------------------------------------------------------------------\u001b[0m",
      "\u001b[1;31mNameError\u001b[0m                                 Traceback (most recent call last)",
      "\u001b[1;32md:\\_WorkSpace\\MyCodes\\Machine Learning\\ML2\\MovieRecommenderSystem.ipynb Cell 4\u001b[0m line \u001b[0;36m<cell line: 24>\u001b[1;34m()\u001b[0m\n\u001b[0;32m     <a href='vscode-notebook-cell:/d%3A/_WorkSpace/MyCodes/Machine%20Learning/ML2/MovieRecommenderSystem.ipynb#W1sZmlsZQ%3D%3D?line=20'>21</a>\u001b[0m tfidf_matrix \u001b[39m=\u001b[39m tfidf_vectorizer\u001b[39m.\u001b[39mfit_transform(movies_df[\u001b[39m'\u001b[39m\u001b[39mdescription\u001b[39m\u001b[39m'\u001b[39m])\n\u001b[0;32m     <a href='vscode-notebook-cell:/d%3A/_WorkSpace/MyCodes/Machine%20Learning/ML2/MovieRecommenderSystem.ipynb#W1sZmlsZQ%3D%3D?line=22'>23</a>\u001b[0m \u001b[39m# Compute cosine similarity\u001b[39;00m\n\u001b[1;32m---> <a href='vscode-notebook-cell:/d%3A/_WorkSpace/MyCodes/Machine%20Learning/ML2/MovieRecommenderSystem.ipynb#W1sZmlsZQ%3D%3D?line=23'>24</a>\u001b[0m cosine_similarity \u001b[39m=\u001b[39m linear_kernal(tfidf_matrix, tfidf_matrix)\n\u001b[0;32m     <a href='vscode-notebook-cell:/d%3A/_WorkSpace/MyCodes/Machine%20Learning/ML2/MovieRecommenderSystem.ipynb#W1sZmlsZQ%3D%3D?line=25'>26</a>\u001b[0m \u001b[39m# Function to get movie recommendations based on descriptions\u001b[39;00m\n\u001b[0;32m     <a href='vscode-notebook-cell:/d%3A/_WorkSpace/MyCodes/Machine%20Learning/ML2/MovieRecommenderSystem.ipynb#W1sZmlsZQ%3D%3D?line=26'>27</a>\u001b[0m \u001b[39mdef\u001b[39;00m \u001b[39mget_movie_recommendations\u001b[39m(movie_id, num_recommendations \u001b[39m=\u001b[39m\u001b[39m5\u001b[39m):\n",
      "\u001b[1;31mNameError\u001b[0m: name 'linear_kernal' is not defined"
     ]
    }
   ],
   "source": [
    "from sklearn.feature_extraction.text import TfidfVectorizer\n",
    "from sklearn.metrics.pairwise import linear_kernel\n",
    "\n",
    "#Sample data\n",
    "movies_data = {\n",
    "    'movie_id': [1, 2, 3, 4, 5],\n",
    "    'title': ['Movie A', 'Movie B', 'Movie C', 'Movie D', 'Movie E'],\n",
    "    'description': [\n",
    "        'An action-packed adventure in a distant world.',\n",
    "        'A heartwarming drama filled with romance and emotions',\n",
    "        'A thrilling action movie set in a futuristic world.',\n",
    "        'A tense drama with unexpected twists and turns.',\n",
    "        'A hilarious comedy that will keep you laughing.'\n",
    "    ]\n",
    "}\n",
    "# Convert movie and ratings data to pandas DataFrames\n",
    "movies_df = pd.DataFrame(movies_data)\n",
    "\n",
    "# Create a TF-IDF vectorizer\n",
    "tfidf_vectorizer = TfidfVectorizer(stop_words = 'english')\n",
    "tfidf_matrix = tfidf_vectorizer.fit_transform(movies_df['description'])\n",
    "\n",
    "# Compute cosine similarity\n",
    "cosine_similarity = linear_kernal(tfidf_matrix, tfidf_matrix)\n",
    "\n",
    "# Function to get movie recommendations based on descriptions\n",
    "def get_movie_recommendations(movie_id, num_recommendations =5):\n",
    "    similar_movies = list(enumerate(cosine_similarities[movie_id]))\n",
    "    sorted_similar_movies = sorted(similar_movies, key = lambda x: x[1], reverse = True)\n",
    "    recommended_movies = []\n",
    "    for movie in sorted_similar_movies[1:num_recommendations + 1]:\n",
    "        movie_id, _ = movie\n",
    "        recommended_movies.append(movies_df.loc[movies_df['movie_id'] == movie_id + 1, 'title'].values[0])\n",
    "    return recommended_movies\n",
    "\n",
    "# Sample user's movie ratings\n",
    "user_movie_id = 0\n",
    "\n",
    "# Get unrated movies for the user   \n",
    "recommended_movies = get_movie_recommendations(user_movie_id)\n",
    "\n",
    "#Display recommended movies\n",
    "print(f\"Recommended movies based on your choice (Movie A): {recommended_movies}\")\n"
   ]
  }
 ],
 "metadata": {
  "kernelspec": {
   "display_name": "Python 3",
   "language": "python",
   "name": "python3"
  },
  "language_info": {
   "codemirror_mode": {
    "name": "ipython",
    "version": 3
   },
   "file_extension": ".py",
   "mimetype": "text/x-python",
   "name": "python",
   "nbconvert_exporter": "python",
   "pygments_lexer": "ipython3",
   "version": "3.10.4"
  }
 },
 "nbformat": 4,
 "nbformat_minor": 2
}
