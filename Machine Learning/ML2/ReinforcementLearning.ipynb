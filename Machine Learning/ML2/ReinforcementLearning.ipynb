{
 "cells": [
  {
   "cell_type": "markdown",
   "metadata": {},
   "source": [
    "<h1> Reinforecment Learning</h1>\n",
    " - grid_world_bellman\n"
   ]
  },
  {
   "cell_type": "code",
   "execution_count": 23,
   "metadata": {},
   "outputs": [],
   "source": [
    "import numpy as np\n",
    "#constants for grid world\n",
    "GRID_SIZE = 5\n",
    "NUM_STATES = GRID_SIZE * GRID_SIZE\n",
    "NUM_ACTIONS = 4 # Up, DOwn, Left, Right\n",
    "GOAL_STATE = (GRID_SIZE - 1, GRID_SIZE - 1)\n",
    "OBSTACLE_STATES = [(1,1),(2,2),(3,3)]\n",
    "DISCOUNT_FACTOR = 0.9\n",
    "MAX_ITERATIONS = 1000\n",
    "EPSILON = 1e-6 #Convergence Threshold\n",
    "\n",
    "#Value function Initialization\n",
    "value_function = np.zeros(NUM_STATES)\n",
    "\n",
    "#transition dynamics and Rewards\n",
    "transition_probabilities = np.zeros((NUM_STATES, NUM_ACTIONS, NUM_STATES))\n",
    "rewards = np.zeros(NUM_STATES)"
   ]
  },
  {
   "cell_type": "code",
   "execution_count": 24,
   "metadata": {},
   "outputs": [
    {
     "name": "stdout",
     "output_type": "stream",
     "text": [
      "[  0.   0.   0.   0.   0.   0. -10.   0.   0.   0.   0.   0. -10.   0.\n",
      "   0.   0.   0.   0. -10.   0.   0.   0.   0.   0.  10.]\n",
      "[[[0. 0. 0. ... 0. 0. 0.]\n",
      "  [0. 0. 0. ... 0. 0. 0.]\n",
      "  [0. 0. 0. ... 0. 0. 0.]\n",
      "  [0. 1. 0. ... 0. 0. 0.]]\n",
      "\n",
      " [[0. 0. 0. ... 0. 0. 0.]\n",
      "  [0. 0. 0. ... 0. 0. 0.]\n",
      "  [0. 0. 0. ... 0. 0. 0.]\n",
      "  [0. 0. 1. ... 0. 0. 0.]]\n",
      "\n",
      " [[0. 0. 0. ... 0. 0. 0.]\n",
      "  [0. 0. 0. ... 0. 0. 0.]\n",
      "  [0. 0. 0. ... 0. 0. 0.]\n",
      "  [0. 0. 0. ... 0. 0. 0.]]\n",
      "\n",
      " ...\n",
      "\n",
      " [[0. 0. 0. ... 0. 0. 0.]\n",
      "  [0. 0. 0. ... 0. 0. 0.]\n",
      "  [0. 0. 0. ... 0. 0. 0.]\n",
      "  [0. 0. 0. ... 0. 1. 0.]]\n",
      "\n",
      " [[0. 0. 0. ... 0. 0. 0.]\n",
      "  [0. 0. 0. ... 0. 0. 0.]\n",
      "  [0. 0. 0. ... 0. 0. 0.]\n",
      "  [0. 0. 0. ... 0. 0. 1.]]\n",
      "\n",
      " [[0. 0. 0. ... 0. 0. 0.]\n",
      "  [0. 0. 0. ... 0. 0. 0.]\n",
      "  [0. 0. 0. ... 0. 0. 0.]\n",
      "  [0. 0. 0. ... 0. 0. 1.]]]\n"
     ]
    }
   ],
   "source": [
    "for state in range(NUM_STATES):\n",
    "    if state == GOAL_STATE[0] * GRID_SIZE + GOAL_STATE[1]:\n",
    "        rewards[state] = 10 # Goal State\n",
    "    elif state in [s[0] * GRID_SIZE + s[1] for s in OBSTACLE_STATES]:\n",
    "        rewards[state] = -10 # Obstacle States\n",
    "    \n",
    "    row,col = state // GRID_SIZE, state % GRID_SIZE\n",
    "    for action in range(NUM_ACTIONS):\n",
    "        if action == 0: #Up\n",
    "            next_state = max(0,row - 1) * GRID_SIZE + col\n",
    "        if action == 1: #down\n",
    "            next_state = min(GRID_SIZE - 1 ,row + 1) * GRID_SIZE + col\n",
    "        if action == 2: #left\n",
    "            next_state = row * GRID_SIZE + max(0,col - 1)\n",
    "        else:   #right\n",
    "            next_state = row * GRID_SIZE + min(GRID_SIZE - 1 ,col + 1)\n",
    "    transition_probabilities[state,action,next_state] = 1.0\n",
    "\n",
    "print(rewards)\n",
    "print(transition_probabilities)\n"
   ]
  },
  {
   "cell_type": "code",
   "execution_count": 25,
   "metadata": {},
   "outputs": [
    {
     "name": "stdout",
     "output_type": "stream",
     "text": [
      "Optimal value function:\n",
      "[[ 0.  0.  0.  0.  0.]\n",
      " [ 0.  0.  0.  0.  0.]\n",
      " [ 0.  0.  0.  0.  0.]\n",
      " [ 0.  0.  0.  0.  0.]\n",
      " [ 0.  0.  0. 10. 10.]]\n"
     ]
    }
   ],
   "source": [
    "#Perform value iteration\n",
    "for i in range(MAX_ITERATIONS):\n",
    "    new_value_function = np.zeros(NUM_STATES)\n",
    "    for state in range(NUM_STATES):\n",
    "        expected_rewards = np.sum(transition_probabilities[state]* (rewards + DISCOUNT_FACTOR * new_value_function), axis=1)\n",
    "        new_value_function[state] = np.max(expected_rewards)\n",
    "    if np.max(np.abs(new_value_function - value_function)    ) < EPSILON:\n",
    "        break\n",
    "    value_function = new_value_function\n",
    "\n",
    "#Print the Optimal value function\n",
    "print(\"Optimal value function:\")\n",
    "print(value_function.reshape((GRID_SIZE, GRID_SIZE)))"
   ]
  },
  {
   "cell_type": "markdown",
   "metadata": {},
   "source": [
    "<h2> Q Learning </h2>"
   ]
  },
  {
   "cell_type": "code",
   "execution_count": null,
   "metadata": {},
   "outputs": [],
   "source": [
    "env = np.array([['S','.','.','.'],['.','C','.','.'],['.','.','.','G']])\n",
    "learning_rate = 0.1\n",
    "DISCOUNT_FACTOR = 0.9\n",
    "exploration_prob = 0.1\n",
    "num_episodes = 1000\n",
    "\n",
    "NUM_STATES = np.prod(env.shape)\n",
    "for episode in range(num_episodes):\n",
    "    "
   ]
  }
 ],
 "metadata": {
  "kernelspec": {
   "display_name": "Python 3",
   "language": "python",
   "name": "python3"
  },
  "language_info": {
   "codemirror_mode": {
    "name": "ipython",
    "version": 3
   },
   "file_extension": ".py",
   "mimetype": "text/x-python",
   "name": "python",
   "nbconvert_exporter": "python",
   "pygments_lexer": "ipython3",
   "version": "3.10.4"
  },
  "orig_nbformat": 4
 },
 "nbformat": 4,
 "nbformat_minor": 2
}
