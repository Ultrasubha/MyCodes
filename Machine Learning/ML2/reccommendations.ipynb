{
 "cells": [
  {
   "cell_type": "code",
   "execution_count": 5,
   "metadata": {},
   "outputs": [],
   "source": [
    "import numpy as np \n",
    "from sklearn.metrics.pairwise import cosine_similarity"
   ]
  },
  {
   "cell_type": "markdown",
   "metadata": {},
   "source": []
  },
  {
   "cell_type": "code",
   "execution_count": 6,
   "metadata": {},
   "outputs": [
    {
     "name": "stdout",
     "output_type": "stream",
     "text": [
      "Reccommended items for the target user : \n",
      "Item 2\n",
      "Item 2\n",
      "Item 2\n"
     ]
    }
   ],
   "source": [
    "user_item_matrix = np.array([\n",
    "    [5,3,0,1],\n",
    "    [4,0,4,0],\n",
    "    [0,2,1,4],\n",
    "    [1,0,5,4],\n",
    "])\n",
    "\n",
    "user_similarity = cosine_similarity(user_item_matrix)\n",
    "def get_user_based_reccommendations(user_id,user_similarity,user_item_matrix,num_reccommendations=3):\n",
    "    user_similarities = user_similarity[user_id]\n",
    "    similar_users_sorted = np.argsort(user_similarities[::-1])\n",
    "    unrated_items = np.where(user_item_matrix[user_id]==0)[0]\n",
    "    reccommendations = []\n",
    "    for user in similar_users_sorted:\n",
    "        for item in unrated_items:\n",
    "            if user_item_matrix[user,item] > 0:\n",
    "                reccommendations.append((item, user_item_matrix[user,item]))\n",
    "    reccommendations.sort(key=lambda x: x[1], reverse = True)\n",
    "    recommended_items = [item for item, _ in reccommendations[:num_reccommendations]]\n",
    "    return recommended_items\n",
    "target_user_id = 0\n",
    "reccommendations = get_user_based_reccommendations(target_user_id, user_similarity, user_item_matrix)\n",
    "print(\"Reccommended items for the target user : \")\n",
    "for item_id in reccommendations:\n",
    "    print(f\"Item {item_id}\")"
   ]
  }
 ],
 "metadata": {
  "kernelspec": {
   "display_name": "Python 3",
   "language": "python",
   "name": "python3"
  },
  "language_info": {
   "codemirror_mode": {
    "name": "ipython",
    "version": 3
   },
   "file_extension": ".py",
   "mimetype": "text/x-python",
   "name": "python",
   "nbconvert_exporter": "python",
   "pygments_lexer": "ipython3",
   "version": "3.10.4"
  }
 },
 "nbformat": 4,
 "nbformat_minor": 2
}
