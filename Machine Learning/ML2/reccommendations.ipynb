{
 "cells": [
  {
   "cell_type": "code",
   "execution_count": 49,
   "metadata": {},
   "outputs": [],
   "source": [
    "import numpy as np \n",
    "from sklearn.metrics.pairwise import cosine_similarity"
   ]
  },
  {
   "cell_type": "markdown",
   "metadata": {},
   "source": []
  },
  {
   "cell_type": "code",
   "execution_count": 50,
   "metadata": {},
   "outputs": [
    {
     "name": "stdout",
     "output_type": "stream",
     "text": [
      "Reccommended items for the target user : \n",
      "Item 2\n",
      "Item 2\n",
      "Item 2\n"
     ]
    }
   ],
   "source": [
    "user_item_matrix = np.array([\n",
    "    [5,3,0,1],\n",
    "    [4,0,4,0],\n",
    "    [0,2,1,4],\n",
    "    [1,0,5,4],\n",
    "])\n",
    "\n",
    "user_similarity = cosine_similarity(user_item_matrix)\n",
    "def get_user_based_reccommendations(user_id,user_similarity,user_item_matrix,num_reccommendations=3):\n",
    "    user_similarities = user_similarity[user_id]\n",
    "    similar_users_sorted = np.argsort(user_similarities[::-1])\n",
    "    unrated_items = np.where(user_item_matrix[user_id]==0)[0]\n",
    "    reccommendations = []\n",
    "    for user in similar_users_sorted:\n",
    "        for item in unrated_items:\n",
    "            if user_item_matrix[user,item] > 0:\n",
    "                reccommendations.append((item, user_item_matrix[user,item]))\n",
    "    reccommendations.sort(key=lambda x: x[1], reverse = True)\n",
    "    recommended_items = [item for item, _ in reccommendations[:num_reccommendations]]\n",
    "    return recommended_items\n",
    "target_user_id = 0\n",
    "reccommendations = get_user_based_reccommendations(target_user_id, user_similarity, user_item_matrix)\n",
    "print(\"Reccommended items for the target user : \")\n",
    "for item_id in reccommendations:\n",
    "    print(f\"Item {item_id}\")"
   ]
  },
  {
   "cell_type": "markdown",
   "metadata": {},
   "source": [
    "<h1> item based coil filter </h1>"
   ]
  },
  {
   "cell_type": "code",
   "execution_count": 51,
   "metadata": {},
   "outputs": [
    {
     "name": "stdout",
     "output_type": "stream",
     "text": [
      "Reccommended items for the target user : \n",
      "Item 2\n",
      "Item 2\n",
      "Item 2\n"
     ]
    }
   ],
   "source": [
    "item_similarity = cosine_similarity(user_item_matrix.T)\n",
    "def get_user_based_reccommendations(user_id,item_similarity,user_item_matrix,num_reccommendations=3):\n",
    "    user_similarities = item_similarity[user_id]\n",
    "    similar_users_sorted = np.argsort(user_similarities[::-1])\n",
    "    unrated_items = np.where(user_item_matrix[user_id]==0)[0]\n",
    "    reccommendations = []\n",
    "    for user in similar_users_sorted:\n",
    "        for item in unrated_items:\n",
    "            if user_item_matrix[user,item] > 0:\n",
    "                reccommendations.append((item, user_item_matrix[user,item]))\n",
    "    reccommendations.sort(key=lambda x: x[1], reverse = True)\n",
    "    recommended_items = [item for item, _ in reccommendations[:num_reccommendations]]\n",
    "    return recommended_items\n",
    "target_user_id = 0\n",
    "reccommendations = get_user_based_reccommendations(target_user_id, item_similarity, user_item_matrix)\n",
    "print(\"Reccommended items for the target user : \")\n",
    "for item_id in reccommendations:\n",
    "    print(f\"Item {item_id}\")"
   ]
  },
  {
   "cell_type": "code",
   "execution_count": 52,
   "metadata": {},
   "outputs": [
    {
     "name": "stdout",
     "output_type": "stream",
     "text": [
      "Reccommended items for the target user : \n",
      "Item 0\n",
      "Item 1\n",
      "Item 2\n"
     ]
    }
   ],
   "source": [
    "from scipy.sparse.linalg import svds\n",
    "matrix = np.array(user_item_matrix, float)\n",
    "u,sigma, Vt = svds(matrix, k=2)\n",
    "sigma_diag = np.diag(sigma)\n",
    "predicted_user_item_matrix = np.dot(np.dot(u,sigma_diag),Vt)\n",
    "def get_model_based_reccommendations(user_id, predicted_user_item_matrix, num_reccommendations=3):\n",
    "    predicted_interactions = predicted_user_item_matrix[user_id]\n",
    "    unrated_items = np.where(predicted_interactions == 0)[0]\n",
    "    sorted_unrated_items = np.argsort(predicted_interactions)[::-1]\n",
    "    recommended_items = [item for item in sorted_unrated_items[:num_reccommendations]]\n",
    "    return recommended_items\n",
    "target_user_id = 0\n",
    "reccommendations = get_model_based_reccommendations(target_user_id, predicted_user_item_matrix)\n",
    "print(\"Reccommended items for the target user : \")\n",
    "for item_id in reccommendations:\n",
    "    print(f\"Item {item_id}\")\n"
   ]
  },
  {
   "cell_type": "code",
   "execution_count": 53,
   "metadata": {},
   "outputs": [
    {
     "data": {
      "text/plain": [
       "array([[1.        , 0.5976143 , 0.36885556, 0.23473824],\n",
       "       [0.5976143 , 1.        , 0.15430335, 0.65465367],\n",
       "       [0.36885556, 0.15430335, 1.        , 0.70710678],\n",
       "       [0.23473824, 0.65465367, 0.70710678, 1.        ]])"
      ]
     },
     "execution_count": 53,
     "metadata": {},
     "output_type": "execute_result"
    }
   ],
   "source": [
    "user_similarity"
   ]
  },
  {
   "cell_type": "code",
   "execution_count": 54,
   "metadata": {},
   "outputs": [
    {
     "data": {
      "text/plain": [
       "array([[1.        , 0.64194074, 0.5       , 0.24174689],\n",
       "       [0.64194074, 1.        , 0.0855921 , 0.531085  ],\n",
       "       [0.5       , 0.0855921 , 1.        , 0.64465837],\n",
       "       [0.24174689, 0.531085  , 0.64465837, 1.        ]])"
      ]
     },
     "execution_count": 54,
     "metadata": {},
     "output_type": "execute_result"
    }
   ],
   "source": [
    "item_similarity"
   ]
  },
  {
   "cell_type": "code",
   "execution_count": 55,
   "metadata": {},
   "outputs": [
    {
     "data": {
      "text/plain": [
       "array([[ 5.15341682,  1.94976022,  1.07587267, -0.09126383],\n",
       "       [ 3.7873761 ,  1.47704855,  2.47308024,  1.5491318 ],\n",
       "       [ 0.32711665,  0.18960034,  2.57880948,  2.4059535 ],\n",
       "       [ 0.89706489,  0.45748848,  4.69026123,  4.30993496]])"
      ]
     },
     "execution_count": 55,
     "metadata": {},
     "output_type": "execute_result"
    }
   ],
   "source": [
    "predicted_user_item_matrix"
   ]
  }
 ],
 "metadata": {
  "kernelspec": {
   "display_name": "Python 3",
   "language": "python",
   "name": "python3"
  },
  "language_info": {
   "codemirror_mode": {
    "name": "ipython",
    "version": 3
   },
   "file_extension": ".py",
   "mimetype": "text/x-python",
   "name": "python",
   "nbconvert_exporter": "python",
   "pygments_lexer": "ipython3",
   "version": "3.10.4"
  }
 },
 "nbformat": 4,
 "nbformat_minor": 2
}
