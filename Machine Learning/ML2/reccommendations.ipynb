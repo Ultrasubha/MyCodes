{
 "cells": [
  {
   "cell_type": "code",
   "execution_count": 1,
   "metadata": {},
   "outputs": [],
   "source": [
    "import numpy as np \n",
    "from sklearn.metrics.pairwise import cosine_similarity"
   ]
  },
  {
   "cell_type": "markdown",
   "metadata": {},
   "source": []
  },
  {
   "cell_type": "code",
   "execution_count": 2,
   "metadata": {},
   "outputs": [
    {
     "name": "stdout",
     "output_type": "stream",
     "text": [
      "Reccommended items for the target user : \n",
      "Item 2\n",
      "Item 2\n",
      "Item 2\n"
     ]
    }
   ],
   "source": [
    "user_item_matrix = np.array([\n",
    "    [5,3,0,1],\n",
    "    [4,0,4,0],\n",
    "    [0,2,1,4],\n",
    "    [1,0,5,4],\n",
    "])\n",
    "\n",
    "user_similarity = cosine_similarity(user_item_matrix)\n",
    "def get_user_based_reccommendations(user_id,user_similarity,user_item_matrix,num_reccommendations=3):\n",
    "    user_similarities = user_similarity[user_id]\n",
    "    similar_users_sorted = np.argsort(user_similarities[::-1])\n",
    "    unrated_items = np.where(user_item_matrix[user_id]==0)[0]\n",
    "    reccommendations = []\n",
    "    for user in similar_users_sorted:\n",
    "        for item in unrated_items:\n",
    "            if user_item_matrix[user,item] > 0:\n",
    "                reccommendations.append((item, user_item_matrix[user,item]))\n",
    "    reccommendations.sort(key=lambda x: x[1], reverse = True)\n",
    "    recommended_items = [item for item, _ in reccommendations[:num_reccommendations]]\n",
    "    return recommended_items\n",
    "target_user_id = 0\n",
    "reccommendations = get_user_based_reccommendations(target_user_id, user_similarity, user_item_matrix)\n",
    "print(\"Reccommended items for the target user : \")\n",
    "for item_id in reccommendations:\n",
    "    print(f\"Item {item_id}\")"
   ]
  },
  {
   "cell_type": "markdown",
   "metadata": {},
   "source": [
    "<h1> item based coil filter </h1>"
   ]
  },
  {
   "cell_type": "code",
   "execution_count": 3,
   "metadata": {},
   "outputs": [
    {
     "name": "stdout",
     "output_type": "stream",
     "text": [
      "Reccommended items for the target user : \n",
      "Item 2\n",
      "Item 2\n",
      "Item 2\n"
     ]
    }
   ],
   "source": [
    "item_similarity = cosine_similarity(user_item_matrix.T)\n",
    "def get_user_based_reccommendations(user_id,item_similarity,user_item_matrix,num_reccommendations=3):\n",
    "    user_similarities = item_similarity[user_id]\n",
    "    similar_users_sorted = np.argsort(user_similarities[::-1])\n",
    "    unrated_items = np.where(user_item_matrix[user_id]==0)[0]\n",
    "    reccommendations = []\n",
    "    for user in similar_users_sorted:\n",
    "        for item in unrated_items:\n",
    "            if user_item_matrix[user,item] > 0:\n",
    "                reccommendations.append((item, user_item_matrix[user,item]))\n",
    "    reccommendations.sort(key=lambda x: x[1], reverse = True)\n",
    "    recommended_items = [item for item, _ in reccommendations[:num_reccommendations]]\n",
    "    return recommended_items\n",
    "target_user_id = 0\n",
    "reccommendations = get_user_based_reccommendations(target_user_id, item_similarity, user_item_matrix)\n",
    "print(\"Reccommended items for the target user : \")\n",
    "for item_id in reccommendations:\n",
    "    print(f\"Item {item_id}\")"
   ]
  },
  {
   "cell_type": "code",
   "execution_count": 4,
   "metadata": {},
   "outputs": [
    {
     "name": "stdout",
     "output_type": "stream",
     "text": [
      "Reccommended items for the target user : \n",
      "Item 0\n",
      "Item 1\n",
      "Item 2\n"
     ]
    }
   ],
   "source": [
    "from scipy.sparse.linalg import svds\n",
    "matrix = np.array(user_item_matrix, float)\n",
    "u,sigma, Vt = svds(matrix, k=2)\n",
    "sigma_diag = np.diag(sigma)\n",
    "predicted_user_item_matrix = np.dot(np.dot(u,sigma_diag),Vt)\n",
    "def get_model_based_reccommendations(user_id, predicted_user_item_matrix, num_reccommendations=3):\n",
    "    predicted_interactions = predicted_user_item_matrix[user_id]\n",
    "    unrated_items = np.where(predicted_interactions == 0)[0]\n",
    "    sorted_unrated_items = np.argsort(predicted_interactions)[::-1]\n",
    "    recommended_items = [item for item in sorted_unrated_items[:num_reccommendations]]\n",
    "    return recommended_items\n",
    "target_user_id = 0\n",
    "reccommendations = get_model_based_reccommendations(target_user_id, predicted_user_item_matrix)\n",
    "print(\"Reccommended items for the target user : \")\n",
    "for item_id in reccommendations:\n",
    "    print(f\"Item {item_id}\")\n"
   ]
  },
  {
   "cell_type": "code",
   "execution_count": 5,
   "metadata": {},
   "outputs": [
    {
     "data": {
      "text/plain": [
       "array([[1.        , 0.5976143 , 0.36885556, 0.23473824],\n",
       "       [0.5976143 , 1.        , 0.15430335, 0.65465367],\n",
       "       [0.36885556, 0.15430335, 1.        , 0.70710678],\n",
       "       [0.23473824, 0.65465367, 0.70710678, 1.        ]])"
      ]
     },
     "execution_count": 5,
     "metadata": {},
     "output_type": "execute_result"
    }
   ],
   "source": [
    "user_similarity"
   ]
  },
  {
   "cell_type": "code",
   "execution_count": 6,
   "metadata": {},
   "outputs": [
    {
     "data": {
      "text/plain": [
       "array([[1.        , 0.64194074, 0.5       , 0.24174689],\n",
       "       [0.64194074, 1.        , 0.0855921 , 0.531085  ],\n",
       "       [0.5       , 0.0855921 , 1.        , 0.64465837],\n",
       "       [0.24174689, 0.531085  , 0.64465837, 1.        ]])"
      ]
     },
     "execution_count": 6,
     "metadata": {},
     "output_type": "execute_result"
    }
   ],
   "source": [
    "item_similarity"
   ]
  },
  {
   "cell_type": "code",
   "execution_count": 7,
   "metadata": {},
   "outputs": [
    {
     "data": {
      "text/plain": [
       "array([[ 5.15341682,  1.94976022,  1.07587267, -0.09126383],\n",
       "       [ 3.7873761 ,  1.47704855,  2.47308024,  1.5491318 ],\n",
       "       [ 0.32711665,  0.18960034,  2.57880948,  2.4059535 ],\n",
       "       [ 0.89706489,  0.45748848,  4.69026123,  4.30993496]])"
      ]
     },
     "execution_count": 7,
     "metadata": {},
     "output_type": "execute_result"
    }
   ],
   "source": [
    "predicted_user_item_matrix"
   ]
  },
  {
   "cell_type": "markdown",
   "metadata": {},
   "source": [
    "<h1> Recommendation_system_all_Filtering</h1>"
   ]
  },
  {
   "cell_type": "code",
   "execution_count": 8,
   "metadata": {},
   "outputs": [
    {
     "name": "stdout",
     "output_type": "stream",
     "text": [
      "   User ID  Product ID Product Name   Brand         Category  Price    Rating  \\\n",
      "0       19           1        Dress  Adidas    Men's Fashion     40  1.043159   \n",
      "1       97           2        Shoes     H&M  Women's Fashion     82  4.026416   \n",
      "2       25           3        Dress  Adidas  Women's Fashion     44  3.337938   \n",
      "3       57           4        Shoes    Zara    Men's Fashion     23  1.049523   \n",
      "4       79           5      T-shirt  Adidas    Men's Fashion     79  4.302773   \n",
      "\n",
      "    Color Size  \n",
      "0   Black   XL  \n",
      "1   Black    L  \n",
      "2  Yellow   XL  \n",
      "3   White    S  \n",
      "4   Black    M  \n"
     ]
    }
   ],
   "source": [
    "import pandas as pd\n",
    "data = pd.read_csv(\"D:\\_WorkSpace\\MyCodes\\Machine Learning\\Data\\\\fashion_products.csv\")\n",
    "print(data.head())"
   ]
  },
  {
   "cell_type": "code",
   "execution_count": 9,
   "metadata": {},
   "outputs": [],
   "source": [
    "from surprise import Dataset, Reader, SVD\n",
    "from sklearn.feature_extraction.text import TfidfVectorizer\n",
    "from sklearn.metrics.pairwise import linear_kernel"
   ]
  },
  {
   "cell_type": "code",
   "execution_count": 10,
   "metadata": {},
   "outputs": [
    {
     "name": "stderr",
     "output_type": "stream",
     "text": [
      "C:\\Users\\hp\\AppData\\Local\\Temp\\ipykernel_16540\\2407153283.py:2: SettingWithCopyWarning: \n",
      "A value is trying to be set on a copy of a slice from a DataFrame.\n",
      "Try using .loc[row_indexer,col_indexer] = value instead\n",
      "\n",
      "See the caveats in the documentation: https://pandas.pydata.org/pandas-docs/stable/user_guide/indexing.html#returning-a-view-versus-a-copy\n",
      "  content_df['content'] = content_df.apply(lambda row: ''.join(row.dropna().astype(str)), axis=1)\n"
     ]
    }
   ],
   "source": [
    "content_df = data[['Product ID', 'Product Name', 'Brand', 'Category', 'Color', 'Size']]\n",
    "content_df['content'] = content_df.apply(lambda row: ''.join(row.dropna().astype(str)), axis=1)\n",
    "\n",
    "tfidf_vectorizer = TfidfVectorizer()\n",
    "content_matrix = tfidf_vectorizer.fit_transform(content_df['content'])\n",
    "\n",
    "content_similarity = linear_kernel(content_matrix, content_matrix)\n",
    "\n",
    "reader = Reader(rating_scale=(1,5))\n",
    "data = Dataset.load_from_df(data[['User ID', 'Product ID', 'Rating']], reader)"
   ]
  },
  {
   "cell_type": "code",
   "execution_count": 11,
   "metadata": {},
   "outputs": [],
   "source": [
    "def get_content_based_recommendations(product_id, top_n):\n",
    "  index = content_df[content_df['Product ID'] == product_id].index[0]\n",
    "  similarity_scores = content_similarity[index]\n",
    "  similar_indices = similarity_scores.argsort()[::-1][1:top_n + 1]\n",
    "  recommendations = content_df.loc[similar_indices, 'Product ID'].values\n",
    "  return recommendations"
   ]
  },
  {
   "cell_type": "code",
   "execution_count": 12,
   "metadata": {},
   "outputs": [],
   "source": [
    "from surprise.prediction_algorithms import predictions\n",
    "algo = SVD()\n",
    "trainset = data.build_full_trainset()\n",
    "algo.fit(trainset)\n",
    "\n",
    "def get_collaborative_filtering_recommendations(user_id, top_n):\n",
    "  testset = trainset.build_anti_testset()\n",
    "  testset = filter(lambda x: x[0] == user_id, testset)\n",
    "  predictions = algo.test(testset)\n",
    "  predictions.sort(key=lambda x: x.est, reverse=True)\n",
    "  recommendations = [prediction.ild for prediction in predictions[:top_n]]\n",
    "  return recommendations"
   ]
  }
 ],
 "metadata": {
  "kernelspec": {
   "display_name": "Python 3",
   "language": "python",
   "name": "python3"
  },
  "language_info": {
   "codemirror_mode": {
    "name": "ipython",
    "version": 3
   },
   "file_extension": ".py",
   "mimetype": "text/x-python",
   "name": "python",
   "nbconvert_exporter": "python",
   "pygments_lexer": "ipython3",
   "version": "3.10.4"
  }
 },
 "nbformat": 4,
 "nbformat_minor": 2
}
